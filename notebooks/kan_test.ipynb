{
 "cells": [
  {
   "cell_type": "code",
   "execution_count": 4,
   "metadata": {},
   "outputs": [],
   "source": [
    "import matplotlib.pyplot as plt\n",
    "import numpy as np\n",
    "import pandas as pd\n",
    "import os\n",
    "from kan import *\n",
    "from kan import KAN, create_dataset_from_data"
   ]
  },
  {
   "cell_type": "code",
   "execution_count": 5,
   "metadata": {},
   "outputs": [
    {
     "name": "stdout",
     "output_type": "stream",
     "text": [
      "b'C:\\\\Users\\\\ivan'\n"
     ]
    }
   ],
   "source": [
    "print(os.getcwdb())"
   ]
  },
  {
   "cell_type": "code",
   "execution_count": 6,
   "metadata": {},
   "outputs": [],
   "source": [
    "train_data_path = \".//data/processed//train_v4.csv\"\n",
    "val_data_path = \".//data/processed//val_v4.csv\""
   ]
  },
  {
   "cell_type": "code",
   "execution_count": 7,
   "metadata": {},
   "outputs": [],
   "source": [
    "train_df = pd.read_csv(train_data_path)\n",
    "val_df = pd.read_csv(val_data_path)"
   ]
  },
  {
   "cell_type": "code",
   "execution_count": 8,
   "metadata": {},
   "outputs": [],
   "source": [
    "X = train_df.drop(\"PT_LOSS\", axis=1).values\n",
    "y = train_df[\"PT_LOSS\"].values.reshape(-1, 1)"
   ]
  },
  {
   "cell_type": "code",
   "execution_count": 9,
   "metadata": {},
   "outputs": [
    {
     "name": "stdout",
     "output_type": "stream",
     "text": [
      "tensor([[0.2650, 0.4928, 0.2911],\n",
      "        [0.5197, 0.8926, 0.6581],\n",
      "        [0.9341, 0.6337, 0.4865],\n",
      "        [0.7989, 0.3700, 0.6674],\n",
      "        [0.7820, 0.2016, 0.7083]])\n"
     ]
    }
   ],
   "source": [
    "import torch\n",
    "x = torch.rand(5, 3)\n",
    "print(x)"
   ]
  },
  {
   "cell_type": "code",
   "execution_count": 16,
   "metadata": {},
   "outputs": [
    {
     "name": "stdout",
     "output_type": "stream",
     "text": [
      "[[-0.68421053 -1.          1.         ...  0.5        -1.\n",
      "  -1.        ]\n",
      " [-0.68421053  0.          1.         ...  0.5         1.\n",
      "  -1.        ]\n",
      " [-1.          0.         -0.95238095 ...  0.5        -1.\n",
      "  -1.        ]\n",
      " ...\n",
      " [-0.68421053 -1.          1.         ...  0.         -1.\n",
      "   1.        ]\n",
      " [-0.68421053  0.          1.         ... -0.5        -0.2\n",
      "  -1.        ]\n",
      " [ 1.         -1.         -0.95238095 ... -0.5         1.\n",
      "  -1.        ]]\n",
      "tensor([[-0.6842, -1.0000,  1.0000,  ...,  0.5000, -1.0000, -1.0000],\n",
      "        [-0.6842,  0.0000,  1.0000,  ...,  0.5000,  1.0000, -1.0000],\n",
      "        [-1.0000,  0.0000, -0.9524,  ...,  0.5000, -1.0000, -1.0000],\n",
      "        ...,\n",
      "        [-0.6842, -1.0000,  1.0000,  ...,  0.0000, -1.0000,  1.0000],\n",
      "        [-0.6842,  0.0000,  1.0000,  ..., -0.5000, -0.2000, -1.0000],\n",
      "        [ 1.0000, -1.0000, -0.9524,  ..., -0.5000,  1.0000, -1.0000]]) tensor([[ 0.4105],\n",
      "        [ 0.1860],\n",
      "        [ 0.1251],\n",
      "        [ 0.8455],\n",
      "        [ 0.2884],\n",
      "        [ 0.2772],\n",
      "        [ 0.2011],\n",
      "        [ 0.1345],\n",
      "        [ 0.0841],\n",
      "        [ 0.0543],\n",
      "        [ 0.0676],\n",
      "        [ 0.0906],\n",
      "        [ 0.1690],\n",
      "        [ 0.2772],\n",
      "        [ 0.0967],\n",
      "        [ 0.3587],\n",
      "        [ 0.4135],\n",
      "        [ 0.0865],\n",
      "        [ 0.0636],\n",
      "        [ 0.4135],\n",
      "        [ 0.0407],\n",
      "        [ 0.1215],\n",
      "        [ 0.1655],\n",
      "        [ 0.1071],\n",
      "        [ 0.0684],\n",
      "        [ 0.1581],\n",
      "        [ 0.0969],\n",
      "        [ 0.1137],\n",
      "        [ 0.1524],\n",
      "        [ 0.0556],\n",
      "        [ 0.4111],\n",
      "        [ 0.0894],\n",
      "        [ 0.0344],\n",
      "        [ 0.1274],\n",
      "        [ 0.1329],\n",
      "        [ 0.0821],\n",
      "        [ 0.1160],\n",
      "        [ 0.1110],\n",
      "        [ 0.0362],\n",
      "        [ 0.8146],\n",
      "        [ 0.1724],\n",
      "        [ 0.2110],\n",
      "        [ 0.0683],\n",
      "        [ 0.0798],\n",
      "        [ 0.2309],\n",
      "        [ 0.1677],\n",
      "        [ 0.1292],\n",
      "        [ 0.1402],\n",
      "        [ 0.1523],\n",
      "        [ 0.1802],\n",
      "        [ 0.4466],\n",
      "        [ 0.1088],\n",
      "        [ 0.1085],\n",
      "        [ 0.0394],\n",
      "        [ 0.1204],\n",
      "        [ 0.0783],\n",
      "        [ 0.1232],\n",
      "        [ 0.2167],\n",
      "        [ 0.4426],\n",
      "        [ 0.1667],\n",
      "        [ 0.1418],\n",
      "        [ 0.1961],\n",
      "        [ 0.0686],\n",
      "        [ 0.3274],\n",
      "        [ 0.0409],\n",
      "        [ 0.4427],\n",
      "        [ 0.1730],\n",
      "        [ 0.0868],\n",
      "        [ 0.1543],\n",
      "        [ 0.1537],\n",
      "        [ 0.1590],\n",
      "        [ 0.1418],\n",
      "        [ 0.1086],\n",
      "        [ 0.3557],\n",
      "        [ 0.1650],\n",
      "        [ 0.1518],\n",
      "        [ 0.0697],\n",
      "        [ 0.2168],\n",
      "        [ 0.3063],\n",
      "        [ 0.1926],\n",
      "        [ 0.1078],\n",
      "        [ 0.1069],\n",
      "        [ 0.4102],\n",
      "        [ 0.0969],\n",
      "        [ 0.1765],\n",
      "        [ 0.1802],\n",
      "        [ 0.1314],\n",
      "        [ 0.3577],\n",
      "        [ 0.1672],\n",
      "        [ 0.1412],\n",
      "        [ 0.0753],\n",
      "        [ 0.2044],\n",
      "        [ 0.1070],\n",
      "        [ 0.1540],\n",
      "        [ 0.0389],\n",
      "        [ 0.1399],\n",
      "        [ 0.1818],\n",
      "        [ 0.0852],\n",
      "        [ 0.1341],\n",
      "        [ 0.1974],\n",
      "        [ 0.0394],\n",
      "        [ 0.0996],\n",
      "        [ 0.1817],\n",
      "        [ 0.1585],\n",
      "        [ 0.1053],\n",
      "        [ 0.1093],\n",
      "        [ 0.7946],\n",
      "        [ 0.1153],\n",
      "        [ 0.8708],\n",
      "        [ 0.1911],\n",
      "        [ 0.1406],\n",
      "        [ 0.0779],\n",
      "        [ 0.1909],\n",
      "        [ 0.2810],\n",
      "        [ 0.2308],\n",
      "        [ 0.0704],\n",
      "        [ 0.0447],\n",
      "        [ 0.0994],\n",
      "        [ 0.1164],\n",
      "        [ 0.2552],\n",
      "        [ 0.1392],\n",
      "        [ 0.0967],\n",
      "        [ 0.1131],\n",
      "        [ 0.1683],\n",
      "        [ 0.0630],\n",
      "        [ 0.1335],\n",
      "        [ 0.1958],\n",
      "        [ 0.1419],\n",
      "        [ 0.1973],\n",
      "        [ 0.3662],\n",
      "        [ 0.1545],\n",
      "        [ 0.1424],\n",
      "        [ 0.3813],\n",
      "        [ 0.1129],\n",
      "        [ 0.2287],\n",
      "        [ 0.3674],\n",
      "        [ 0.3563],\n",
      "        [ 0.2483],\n",
      "        [ 0.0505],\n",
      "        [ 0.1138],\n",
      "        [ 0.0433],\n",
      "        [ 0.1262],\n",
      "        [ 0.1005],\n",
      "        [ 0.0821],\n",
      "        [ 0.1536],\n",
      "        [ 0.0791],\n",
      "        [ 0.1457],\n",
      "        [ 0.0499],\n",
      "        [ 0.0599],\n",
      "        [ 0.1490],\n",
      "        [ 0.0696],\n",
      "        [ 0.1752],\n",
      "        [ 0.2254],\n",
      "        [ 0.1018],\n",
      "        [ 0.0612],\n",
      "        [ 0.1652],\n",
      "        [ 0.2358],\n",
      "        [ 0.0553],\n",
      "        [ 0.3060],\n",
      "        [ 0.0741],\n",
      "        [ 0.0697],\n",
      "        [ 0.1086],\n",
      "        [ 0.3806],\n",
      "        [ 0.1923],\n",
      "        [ 0.1020],\n",
      "        [ 0.0945],\n",
      "        [ 0.1864],\n",
      "        [ 0.0741],\n",
      "        [ 0.1116],\n",
      "        [ 0.0849],\n",
      "        [ 0.0943],\n",
      "        [ 0.0391],\n",
      "        [ 0.4472],\n",
      "        [ 0.1071],\n",
      "        [ 0.1958],\n",
      "        [ 0.1728],\n",
      "        [ 0.2127],\n",
      "        [ 0.1132],\n",
      "        [ 0.0510],\n",
      "        [ 0.1240],\n",
      "        [ 0.2130],\n",
      "        [ 0.0534],\n",
      "        [ 0.2156],\n",
      "        [ 0.1051],\n",
      "        [ 0.0546],\n",
      "        [ 0.1218],\n",
      "        [ 0.0476],\n",
      "        [ 0.1540],\n",
      "        [ 0.1739],\n",
      "        [ 0.1144],\n",
      "        [ 0.0519],\n",
      "        [ 0.0684],\n",
      "        [ 0.1547],\n",
      "        [ 0.1131],\n",
      "        [ 0.3019],\n",
      "        [ 0.1404],\n",
      "        [ 0.2552],\n",
      "        [ 0.3287],\n",
      "        [ 0.1077],\n",
      "        [ 0.0942],\n",
      "        [ 0.1099],\n",
      "        [ 0.2883],\n",
      "        [ 0.1130],\n",
      "        [ 0.0780],\n",
      "        [ 0.3274],\n",
      "        [ 0.0970],\n",
      "        [-0.0093],\n",
      "        [ 0.1726],\n",
      "        [ 0.1212],\n",
      "        [ 0.0581],\n",
      "        [ 0.0495],\n",
      "        [ 0.0462],\n",
      "        [ 0.1213],\n",
      "        [ 0.4110],\n",
      "        [ 0.1211],\n",
      "        [ 0.0579],\n",
      "        [ 0.4104],\n",
      "        [ 0.0844],\n",
      "        [ 0.1133],\n",
      "        [ 0.0960],\n",
      "        [ 0.0793],\n",
      "        [ 0.0681],\n",
      "        [ 0.1286],\n",
      "        [ 0.4126],\n",
      "        [ 0.1137],\n",
      "        [ 0.0390],\n",
      "        [ 0.1423],\n",
      "        [ 0.1584],\n",
      "        [ 0.8285],\n",
      "        [ 0.1849],\n",
      "        [ 0.2131],\n",
      "        [ 0.0490],\n",
      "        [ 0.1307],\n",
      "        [ 0.1765],\n",
      "        [ 0.4126],\n",
      "        [ 0.0504],\n",
      "        [ 0.1468],\n",
      "        [ 0.1138],\n",
      "        [ 0.1923],\n",
      "        [ 0.1070],\n",
      "        [ 0.7901],\n",
      "        [ 0.1825],\n",
      "        [ 0.3793],\n",
      "        [ 0.3539],\n",
      "        [ 0.0918],\n",
      "        [ 0.0391],\n",
      "        [ 0.0857],\n",
      "        [ 0.1157],\n",
      "        [ 0.1088],\n",
      "        [ 0.1468],\n",
      "        [ 0.1290],\n",
      "        [ 0.0471],\n",
      "        [ 0.4489],\n",
      "        [ 0.1656],\n",
      "        [ 0.3577],\n",
      "        [ 0.0869],\n",
      "        [ 0.3558],\n",
      "        [ 0.1838],\n",
      "        [ 0.0534]])\n"
     ]
    }
   ],
   "source": [
    "import torch\n",
    "\n",
    "print(X)\n",
    "tX, ty = torch.from_numpy(X).float(), torch.from_numpy(y).float()\n",
    "print(tX,ty)"
   ]
  },
  {
   "cell_type": "code",
   "execution_count": 9,
   "metadata": {},
   "outputs": [
    {
     "name": "stdout",
     "output_type": "stream",
     "text": [
      "checkpoint directory created: ./model\n",
      "saving model version 0.0\n"
     ]
    }
   ],
   "source": [
    "model = KAN(width=[7, 7, 7, 1], grid=7, k=3, seed=42)"
   ]
  },
  {
   "cell_type": "code",
   "execution_count": 33,
   "metadata": {},
   "outputs": [],
   "source": [
    "dataset = create_dataset_from_data(tX, ty)"
   ]
  },
  {
   "cell_type": "code",
   "execution_count": 35,
   "metadata": {},
   "outputs": [
    {
     "data": {
      "text/plain": [
       "(torch.Size([207, 7]), torch.Size([207, 1]))"
      ]
     },
     "execution_count": 35,
     "metadata": {},
     "output_type": "execute_result"
    }
   ],
   "source": [
    "dataset['train_input'].shape, dataset['train_label'].shape"
   ]
  },
  {
   "cell_type": "code",
   "execution_count": 37,
   "metadata": {},
   "outputs": [
    {
     "data": {
      "image/png": "[encoded data removed]",
      "text/plain": [
       "<Figure size 500x600 with 121 Axes>"
      ]
     },
     "metadata": {},
     "output_type": "display_data"
    }
   ],
   "source": [
    "model(dataset['train_input'])\n",
    "model.plot(beta=100)"
   ]
  },
  {
   "cell_type": "code",
   "execution_count": 24,
   "metadata": {},
   "outputs": [
    {
     "name": "stderr",
     "output_type": "stream",
     "text": [
      "| train_loss: 2.17e-02 | test_loss: 1.07e-01 | reg: 7.05e+00 | : 100%|█| 80/80 [00:38<00:00,  2.10it"
     ]
    },
    {
     "name": "stdout",
     "output_type": "stream",
     "text": [
      "saving model version 0.1\n"
     ]
    },
    {
     "name": "stderr",
     "output_type": "stream",
     "text": [
      "\n"
     ]
    },
    {
     "data": {
      "text/plain": [
       "{'train_loss': [array(0.04907852, dtype=float32),\n",
       "  array(0.03102496, dtype=float32),\n",
       "  array(0.02647198, dtype=float32),\n",
       "  array(0.02908113, dtype=float32),\n",
       "  array(0.02979628, dtype=float32),\n",
       "  array(0.04628872, dtype=float32),\n",
       "  array(0.0382552, dtype=float32),\n",
       "  array(0.03420601, dtype=float32),\n",
       "  array(0.0295305, dtype=float32),\n",
       "  array(0.02796875, dtype=float32),\n",
       "  array(0.11856639, dtype=float32),\n",
       "  array(0.08639166, dtype=float32),\n",
       "  array(0.06500763, dtype=float32),\n",
       "  array(0.0550774, dtype=float32),\n",
       "  array(0.04735089, dtype=float32),\n",
       "  array(0.05870928, dtype=float32),\n",
       "  array(0.05018366, dtype=float32),\n",
       "  array(0.04401485, dtype=float32),\n",
       "  array(0.03951264, dtype=float32),\n",
       "  array(0.0356195, dtype=float32),\n",
       "  array(0.04086001, dtype=float32),\n",
       "  array(0.03589448, dtype=float32),\n",
       "  array(0.03388133, dtype=float32),\n",
       "  array(0.03231206, dtype=float32),\n",
       "  array(0.03125086, dtype=float32),\n",
       "  array(0.03120157, dtype=float32),\n",
       "  array(0.0306364, dtype=float32),\n",
       "  array(0.03080727, dtype=float32),\n",
       "  array(0.03010746, dtype=float32),\n",
       "  array(0.02906513, dtype=float32),\n",
       "  array(0.03052059, dtype=float32),\n",
       "  array(0.02830963, dtype=float32),\n",
       "  array(0.02912357, dtype=float32),\n",
       "  array(0.02952261, dtype=float32),\n",
       "  array(0.03060322, dtype=float32),\n",
       "  array(0.03220459, dtype=float32),\n",
       "  array(0.03112204, dtype=float32),\n",
       "  array(0.03075066, dtype=float32),\n",
       "  array(0.03021094, dtype=float32),\n",
       "  array(0.02941711, dtype=float32),\n",
       "  array(0.02926891, dtype=float32),\n",
       "  array(0.0281525, dtype=float32),\n",
       "  array(0.02751412, dtype=float32),\n",
       "  array(0.02665923, dtype=float32),\n",
       "  array(0.02625274, dtype=float32),\n",
       "  array(0.02974758, dtype=float32),\n",
       "  array(0.02729051, dtype=float32),\n",
       "  array(0.02626073, dtype=float32),\n",
       "  array(0.02579861, dtype=float32),\n",
       "  array(0.02549454, dtype=float32),\n",
       "  array(0.02544967, dtype=float32),\n",
       "  array(0.02489867, dtype=float32),\n",
       "  array(0.02453181, dtype=float32),\n",
       "  array(0.0241221, dtype=float32),\n",
       "  array(0.02379861, dtype=float32),\n",
       "  array(0.02335959, dtype=float32),\n",
       "  array(0.0231588, dtype=float32),\n",
       "  array(0.02297738, dtype=float32),\n",
       "  array(0.0230027, dtype=float32),\n",
       "  array(0.02299181, dtype=float32),\n",
       "  array(0.02305364, dtype=float32),\n",
       "  array(0.02300579, dtype=float32),\n",
       "  array(0.02289148, dtype=float32),\n",
       "  array(0.02293241, dtype=float32),\n",
       "  array(0.023066, dtype=float32),\n",
       "  array(0.02285272, dtype=float32),\n",
       "  array(0.02293215, dtype=float32),\n",
       "  array(0.02315911, dtype=float32),\n",
       "  array(0.02295699, dtype=float32),\n",
       "  array(0.02321563, dtype=float32),\n",
       "  array(0.02324413, dtype=float32),\n",
       "  array(0.02288192, dtype=float32),\n",
       "  array(0.02240326, dtype=float32),\n",
       "  array(0.02167673, dtype=float32),\n",
       "  array(0.02168234, dtype=float32),\n",
       "  array(0.02141712, dtype=float32),\n",
       "  array(0.0211984, dtype=float32),\n",
       "  array(0.02153997, dtype=float32),\n",
       "  array(0.02166802, dtype=float32),\n",
       "  array(0.02173009, dtype=float32)],\n",
       " 'test_loss': [array(0.0475556, dtype=float32),\n",
       "  array(0.03205934, dtype=float32),\n",
       "  array(0.02866669, dtype=float32),\n",
       "  array(0.03145618, dtype=float32),\n",
       "  array(0.03334678, dtype=float32),\n",
       "  array(0.04646364, dtype=float32),\n",
       "  array(0.0369406, dtype=float32),\n",
       "  array(0.03458035, dtype=float32),\n",
       "  array(0.03399897, dtype=float32),\n",
       "  array(0.03303759, dtype=float32),\n",
       "  array(0.15602885, dtype=float32),\n",
       "  array(0.14178097, dtype=float32),\n",
       "  array(0.13396202, dtype=float32),\n",
       "  array(0.13468412, dtype=float32),\n",
       "  array(0.127566, dtype=float32),\n",
       "  array(0.11374499, dtype=float32),\n",
       "  array(0.09715766, dtype=float32),\n",
       "  array(0.08745527, dtype=float32),\n",
       "  array(0.08142205, dtype=float32),\n",
       "  array(0.08154051, dtype=float32),\n",
       "  array(0.07694684, dtype=float32),\n",
       "  array(0.07446283, dtype=float32),\n",
       "  array(0.09495254, dtype=float32),\n",
       "  array(0.07931538, dtype=float32),\n",
       "  array(0.07717669, dtype=float32),\n",
       "  array(0.08262478, dtype=float32),\n",
       "  array(0.08293357, dtype=float32),\n",
       "  array(0.08260755, dtype=float32),\n",
       "  array(0.08004276, dtype=float32),\n",
       "  array(0.0744942, dtype=float32),\n",
       "  array(0.07397726, dtype=float32),\n",
       "  array(0.07127921, dtype=float32),\n",
       "  array(0.06827952, dtype=float32),\n",
       "  array(0.06864917, dtype=float32),\n",
       "  array(0.06858299, dtype=float32),\n",
       "  array(0.06814921, dtype=float32),\n",
       "  array(0.06764233, dtype=float32),\n",
       "  array(0.06869055, dtype=float32),\n",
       "  array(0.06980951, dtype=float32),\n",
       "  array(0.07197661, dtype=float32),\n",
       "  array(0.07653525, dtype=float32),\n",
       "  array(0.07541281, dtype=float32),\n",
       "  array(0.07622536, dtype=float32),\n",
       "  array(0.07524969, dtype=float32),\n",
       "  array(0.07642238, dtype=float32),\n",
       "  array(0.07825907, dtype=float32),\n",
       "  array(0.07912545, dtype=float32),\n",
       "  array(0.07829015, dtype=float32),\n",
       "  array(0.07615551, dtype=float32),\n",
       "  array(0.0769761, dtype=float32),\n",
       "  array(0.07896796, dtype=float32),\n",
       "  array(0.08168478, dtype=float32),\n",
       "  array(0.08243333, dtype=float32),\n",
       "  array(0.0846533, dtype=float32),\n",
       "  array(0.08524013, dtype=float32),\n",
       "  array(0.08630637, dtype=float32),\n",
       "  array(0.08688655, dtype=float32),\n",
       "  array(0.08676808, dtype=float32),\n",
       "  array(0.08716617, dtype=float32),\n",
       "  array(0.08624506, dtype=float32),\n",
       "  array(0.08624712, dtype=float32),\n",
       "  array(0.08668569, dtype=float32),\n",
       "  array(0.08716134, dtype=float32),\n",
       "  array(0.08781949, dtype=float32),\n",
       "  array(0.08746757, dtype=float32),\n",
       "  array(0.08725805, dtype=float32),\n",
       "  array(0.08739263, dtype=float32),\n",
       "  array(0.0887197, dtype=float32),\n",
       "  array(0.08999091, dtype=float32),\n",
       "  array(0.09152171, dtype=float32),\n",
       "  array(0.09393696, dtype=float32),\n",
       "  array(0.09608467, dtype=float32),\n",
       "  array(0.09895993, dtype=float32),\n",
       "  array(0.10569421, dtype=float32),\n",
       "  array(0.10547205, dtype=float32),\n",
       "  array(0.10574705, dtype=float32),\n",
       "  array(0.10661312, dtype=float32),\n",
       "  array(0.10591538, dtype=float32),\n",
       "  array(0.1071503, dtype=float32),\n",
       "  array(0.10720388, dtype=float32)],\n",
       " 'reg': [array(14.15957, dtype=float32),\n",
       "  array(10.433386, dtype=float32),\n",
       "  array(8.01054, dtype=float32),\n",
       "  array(6.7703447, dtype=float32),\n",
       "  array(5.666358, dtype=float32),\n",
       "  array(8.59062, dtype=float32),\n",
       "  array(6.636956, dtype=float32),\n",
       "  array(6.074154, dtype=float32),\n",
       "  array(5.6781025, dtype=float32),\n",
       "  array(5.3792233, dtype=float32),\n",
       "  array(12.020393, dtype=float32),\n",
       "  array(11.900824, dtype=float32),\n",
       "  array(11.701895, dtype=float32),\n",
       "  array(11.245911, dtype=float32),\n",
       "  array(10.925987, dtype=float32),\n",
       "  array(10.878229, dtype=float32),\n",
       "  array(10.76337, dtype=float32),\n",
       "  array(10.529505, dtype=float32),\n",
       "  array(10.425063, dtype=float32),\n",
       "  array(10.386944, dtype=float32),\n",
       "  array(10.511307, dtype=float32),\n",
       "  array(10.286507, dtype=float32),\n",
       "  array(10.158955, dtype=float32),\n",
       "  array(10.065203, dtype=float32),\n",
       "  array(9.951393, dtype=float32),\n",
       "  array(9.929114, dtype=float32),\n",
       "  array(9.733728, dtype=float32),\n",
       "  array(9.605858, dtype=float32),\n",
       "  array(9.493387, dtype=float32),\n",
       "  array(9.411372, dtype=float32),\n",
       "  array(9.625576, dtype=float32),\n",
       "  array(9.348827, dtype=float32),\n",
       "  array(9.17001, dtype=float32),\n",
       "  array(9.018783, dtype=float32),\n",
       "  array(8.789574, dtype=float32),\n",
       "  array(8.742061, dtype=float32),\n",
       "  array(8.621931, dtype=float32),\n",
       "  array(8.540005, dtype=float32),\n",
       "  array(8.493241, dtype=float32),\n",
       "  array(8.470506, dtype=float32),\n",
       "  array(8.621927, dtype=float32),\n",
       "  array(8.565554, dtype=float32),\n",
       "  array(8.534143, dtype=float32),\n",
       "  array(8.513649, dtype=float32),\n",
       "  array(8.472765, dtype=float32),\n",
       "  array(8.550318, dtype=float32),\n",
       "  array(8.37696, dtype=float32),\n",
       "  array(8.333507, dtype=float32),\n",
       "  array(8.283708, dtype=float32),\n",
       "  array(8.240553, dtype=float32),\n",
       "  array(8.183341, dtype=float32),\n",
       "  array(8.139679, dtype=float32),\n",
       "  array(8.080674, dtype=float32),\n",
       "  array(8.004803, dtype=float32),\n",
       "  array(7.929363, dtype=float32),\n",
       "  array(7.860406, dtype=float32),\n",
       "  array(7.8110027, dtype=float32),\n",
       "  array(7.785792, dtype=float32),\n",
       "  array(7.763215, dtype=float32),\n",
       "  array(7.7424197, dtype=float32),\n",
       "  array(7.713945, dtype=float32),\n",
       "  array(7.689271, dtype=float32),\n",
       "  array(7.669276, dtype=float32),\n",
       "  array(7.641623, dtype=float32),\n",
       "  array(7.6082544, dtype=float32),\n",
       "  array(7.5839815, dtype=float32),\n",
       "  array(7.550127, dtype=float32),\n",
       "  array(7.4992466, dtype=float32),\n",
       "  array(7.471714, dtype=float32),\n",
       "  array(7.422472, dtype=float32),\n",
       "  array(7.360807, dtype=float32),\n",
       "  array(7.3209963, dtype=float32),\n",
       "  array(7.2873807, dtype=float32),\n",
       "  array(7.2596307, dtype=float32),\n",
       "  array(7.2262254, dtype=float32),\n",
       "  array(7.2056828, dtype=float32),\n",
       "  array(7.1785793, dtype=float32),\n",
       "  array(7.128269, dtype=float32),\n",
       "  array(7.0894814, dtype=float32),\n",
       "  array(7.0521936, dtype=float32)]}"
      ]
     },
     "execution_count": 24,
     "metadata": {},
     "output_type": "execute_result"
    }
   ],
   "source": [
    "model.fit(dataset, opt=\"LBFGS\", steps=80, lamb=0.001)"
   ]
  },
  {
   "cell_type": "code",
   "execution_count": 25,
   "metadata": {},
   "outputs": [
    {
     "data": {
      "image/png": "[encoded data removed]",
      "text/plain": [
       "<Figure size 500x600 with 121 Axes>"
      ]
     },
     "metadata": {},
     "output_type": "display_data"
    }
   ],
   "source": [
    "model.plot()"
   ]
  },
  {
   "cell_type": "code",
   "execution_count": 83,
   "metadata": {},
   "outputs": [
    {
     "name": "stdout",
     "output_type": "stream",
     "text": [
      "saving model version 0.2\n"
     ]
    },
    {
     "data": {
      "image/png": "[encoded data removed]",
      "text/plain": [
       "<Figure size 500x400 with 20 Axes>"
      ]
     },
     "metadata": {},
     "output_type": "display_data"
    }
   ],
   "source": [
    "\n",
    "model.plot()"
   ]
  },
  {
   "cell_type": "code",
   "execution_count": 27,
   "metadata": {},
   "outputs": [
    {
     "name": "stderr",
     "output_type": "stream",
     "text": [
      "| train_loss: 2.66e-02 | test_loss: 9.94e-02 | reg: 8.01e+00 | : 100%|█| 50/50 [00:26<00:00,  1.87it"
     ]
    },
    {
     "name": "stdout",
     "output_type": "stream",
     "text": [
      "saving model version 0.2\n"
     ]
    },
    {
     "name": "stderr",
     "output_type": "stream",
     "text": [
      "\n"
     ]
    },
    {
     "data": {
      "text/plain": [
       "{'train_loss': [array(0.05462988, dtype=float32),\n",
       "  array(0.03873644, dtype=float32),\n",
       "  array(0.03633495, dtype=float32),\n",
       "  array(0.03216317, dtype=float32),\n",
       "  array(0.03031305, dtype=float32),\n",
       "  array(0.05185308, dtype=float32),\n",
       "  array(0.03910492, dtype=float32),\n",
       "  array(0.03412497, dtype=float32),\n",
       "  array(0.03068357, dtype=float32),\n",
       "  array(0.02921269, dtype=float32),\n",
       "  array(0.03992285, dtype=float32),\n",
       "  array(0.03248213, dtype=float32),\n",
       "  array(0.03093623, dtype=float32),\n",
       "  array(0.02846754, dtype=float32),\n",
       "  array(0.02740793, dtype=float32),\n",
       "  array(0.03558956, dtype=float32),\n",
       "  array(0.02878977, dtype=float32),\n",
       "  array(0.02732991, dtype=float32),\n",
       "  array(0.02643709, dtype=float32),\n",
       "  array(0.02579959, dtype=float32),\n",
       "  array(0.04449072, dtype=float32),\n",
       "  array(0.03388176, dtype=float32),\n",
       "  array(0.03010494, dtype=float32),\n",
       "  array(0.02771101, dtype=float32),\n",
       "  array(0.02653391, dtype=float32),\n",
       "  array(0.03179399, dtype=float32),\n",
       "  array(0.02786898, dtype=float32),\n",
       "  array(0.0261679, dtype=float32),\n",
       "  array(0.02572603, dtype=float32),\n",
       "  array(0.02549731, dtype=float32),\n",
       "  array(0.03687406, dtype=float32),\n",
       "  array(0.03081569, dtype=float32),\n",
       "  array(0.02859743, dtype=float32),\n",
       "  array(0.02744243, dtype=float32),\n",
       "  array(0.02672248, dtype=float32),\n",
       "  array(0.02997545, dtype=float32),\n",
       "  array(0.02795051, dtype=float32),\n",
       "  array(0.0273606, dtype=float32),\n",
       "  array(0.02706399, dtype=float32),\n",
       "  array(0.02668758, dtype=float32),\n",
       "  array(0.02925544, dtype=float32),\n",
       "  array(0.0268212, dtype=float32),\n",
       "  array(0.0263781, dtype=float32),\n",
       "  array(0.02603102, dtype=float32),\n",
       "  array(0.0258354, dtype=float32),\n",
       "  array(0.03386798, dtype=float32),\n",
       "  array(0.03060313, dtype=float32),\n",
       "  array(0.02802561, dtype=float32),\n",
       "  array(0.02693584, dtype=float32),\n",
       "  array(0.02656988, dtype=float32)],\n",
       " 'test_loss': [array(0.12891714, dtype=float32),\n",
       "  array(0.12716548, dtype=float32),\n",
       "  array(0.1222416, dtype=float32),\n",
       "  array(0.11774129, dtype=float32),\n",
       "  array(0.11895915, dtype=float32),\n",
       "  array(0.12720777, dtype=float32),\n",
       "  array(0.11931826, dtype=float32),\n",
       "  array(0.12292568, dtype=float32),\n",
       "  array(0.12574747, dtype=float32),\n",
       "  array(0.12346996, dtype=float32),\n",
       "  array(0.11905564, dtype=float32),\n",
       "  array(0.11044479, dtype=float32),\n",
       "  array(0.10717193, dtype=float32),\n",
       "  array(0.11032411, dtype=float32),\n",
       "  array(0.10913946, dtype=float32),\n",
       "  array(0.10835148, dtype=float32),\n",
       "  array(0.10507746, dtype=float32),\n",
       "  array(0.10592142, dtype=float32),\n",
       "  array(0.10765169, dtype=float32),\n",
       "  array(0.1083435, dtype=float32),\n",
       "  array(0.11266001, dtype=float32),\n",
       "  array(0.10910604, dtype=float32),\n",
       "  array(0.10762136, dtype=float32),\n",
       "  array(0.10690711, dtype=float32),\n",
       "  array(0.10644427, dtype=float32),\n",
       "  array(0.10715198, dtype=float32),\n",
       "  array(0.10642719, dtype=float32),\n",
       "  array(0.10444682, dtype=float32),\n",
       "  array(0.10575205, dtype=float32),\n",
       "  array(0.10600137, dtype=float32),\n",
       "  array(0.10777592, dtype=float32),\n",
       "  array(0.10661545, dtype=float32),\n",
       "  array(0.10608209, dtype=float32),\n",
       "  array(0.10582938, dtype=float32),\n",
       "  array(0.10650624, dtype=float32),\n",
       "  array(0.10669602, dtype=float32),\n",
       "  array(0.10671455, dtype=float32),\n",
       "  array(0.10581055, dtype=float32),\n",
       "  array(0.1070772, dtype=float32),\n",
       "  array(0.1065125, dtype=float32),\n",
       "  array(0.10486077, dtype=float32),\n",
       "  array(0.1030232, dtype=float32),\n",
       "  array(0.10295662, dtype=float32),\n",
       "  array(0.1021679, dtype=float32),\n",
       "  array(0.10022355, dtype=float32),\n",
       "  array(0.10062366, dtype=float32),\n",
       "  array(0.10108994, dtype=float32),\n",
       "  array(0.09900803, dtype=float32),\n",
       "  array(0.09829339, dtype=float32),\n",
       "  array(0.09938765, dtype=float32)],\n",
       " 'reg': [array(10.4140005, dtype=float32),\n",
       "  array(10.004812, dtype=float32),\n",
       "  array(9.515894, dtype=float32),\n",
       "  array(9.199966, dtype=float32),\n",
       "  array(9.023079, dtype=float32),\n",
       "  array(9.945054, dtype=float32),\n",
       "  array(9.84219, dtype=float32),\n",
       "  array(9.740444, dtype=float32),\n",
       "  array(9.603121, dtype=float32),\n",
       "  array(9.486077, dtype=float32),\n",
       "  array(9.304865, dtype=float32),\n",
       "  array(8.879698, dtype=float32),\n",
       "  array(8.647665, dtype=float32),\n",
       "  array(8.573106, dtype=float32),\n",
       "  array(8.478707, dtype=float32),\n",
       "  array(8.511369, dtype=float32),\n",
       "  array(8.449917, dtype=float32),\n",
       "  array(8.347453, dtype=float32),\n",
       "  array(8.287093, dtype=float32),\n",
       "  array(8.227202, dtype=float32),\n",
       "  array(8.336025, dtype=float32),\n",
       "  array(8.278067, dtype=float32),\n",
       "  array(8.254912, dtype=float32),\n",
       "  array(8.237743, dtype=float32),\n",
       "  array(8.201571, dtype=float32),\n",
       "  array(8.221693, dtype=float32),\n",
       "  array(8.190938, dtype=float32),\n",
       "  array(8.176424, dtype=float32),\n",
       "  array(8.135696, dtype=float32),\n",
       "  array(8.113222, dtype=float32),\n",
       "  array(8.233435, dtype=float32),\n",
       "  array(8.190981, dtype=float32),\n",
       "  array(8.157692, dtype=float32),\n",
       "  array(8.137136, dtype=float32),\n",
       "  array(8.118763, dtype=float32),\n",
       "  array(8.16033, dtype=float32),\n",
       "  array(8.113145, dtype=float32),\n",
       "  array(8.091839, dtype=float32),\n",
       "  array(8.07204, dtype=float32),\n",
       "  array(8.071247, dtype=float32),\n",
       "  array(8.106082, dtype=float32),\n",
       "  array(8.078249, dtype=float32),\n",
       "  array(8.0591135, dtype=float32),\n",
       "  array(8.043665, dtype=float32),\n",
       "  array(8.030788, dtype=float32),\n",
       "  array(8.10227, dtype=float32),\n",
       "  array(8.05876, dtype=float32),\n",
       "  array(8.045328, dtype=float32),\n",
       "  array(8.025958, dtype=float32),\n",
       "  array(8.012787, dtype=float32)]}"
      ]
     },
     "execution_count": 27,
     "metadata": {},
     "output_type": "execute_result"
    }
   ],
   "source": [
    "model.fit(dataset, opt=\"LBFGS\", steps=50, lamb=0.001)"
   ]
  },
  {
   "cell_type": "code",
   "execution_count": 30,
   "metadata": {},
   "outputs": [
    {
     "name": "stdout",
     "output_type": "stream",
     "text": [
      "saving model version 0.3\n"
     ]
    }
   ],
   "source": [
    "model = model.refine(10)"
   ]
  },
  {
   "cell_type": "code",
   "execution_count": 32,
   "metadata": {},
   "outputs": [
    {
     "name": "stderr",
     "output_type": "stream",
     "text": [
      "| train_loss: 8.62e-03 | test_loss: 8.40e-02 | reg: 1.11e+01 | : 100%|█| 50/50 [00:18<00:00,  2.66it"
     ]
    },
    {
     "name": "stdout",
     "output_type": "stream",
     "text": [
      "saving model version 0.4\n"
     ]
    },
    {
     "name": "stderr",
     "output_type": "stream",
     "text": [
      "\n"
     ]
    },
    {
     "data": {
      "text/plain": [
       "{'train_loss': [array(0.04823344, dtype=float32),\n",
       "  array(0.03358266, dtype=float32),\n",
       "  array(0.02872262, dtype=float32),\n",
       "  array(0.02655696, dtype=float32),\n",
       "  array(0.02501676, dtype=float32),\n",
       "  array(0.02621319, dtype=float32),\n",
       "  array(0.02302261, dtype=float32),\n",
       "  array(0.0216942, dtype=float32),\n",
       "  array(0.02072472, dtype=float32),\n",
       "  array(0.01993121, dtype=float32),\n",
       "  array(0.02061963, dtype=float32),\n",
       "  array(0.0192661, dtype=float32),\n",
       "  array(0.01852322, dtype=float32),\n",
       "  array(0.01784583, dtype=float32),\n",
       "  array(0.0170251, dtype=float32),\n",
       "  array(0.02011084, dtype=float32),\n",
       "  array(0.01702047, dtype=float32),\n",
       "  array(0.01610281, dtype=float32),\n",
       "  array(0.01567423, dtype=float32),\n",
       "  array(0.01529326, dtype=float32),\n",
       "  array(0.01620612, dtype=float32),\n",
       "  array(0.01499039, dtype=float32),\n",
       "  array(0.01461345, dtype=float32),\n",
       "  array(0.01430396, dtype=float32),\n",
       "  array(0.01390837, dtype=float32),\n",
       "  array(0.01565131, dtype=float32),\n",
       "  array(0.01384359, dtype=float32),\n",
       "  array(0.01336176, dtype=float32),\n",
       "  array(0.01314699, dtype=float32),\n",
       "  array(0.01292218, dtype=float32),\n",
       "  array(0.0143422, dtype=float32),\n",
       "  array(0.01286533, dtype=float32),\n",
       "  array(0.0124439, dtype=float32),\n",
       "  array(0.01219113, dtype=float32),\n",
       "  array(0.01179822, dtype=float32),\n",
       "  array(0.01199661, dtype=float32),\n",
       "  array(0.01120822, dtype=float32),\n",
       "  array(0.01085581, dtype=float32),\n",
       "  array(0.01044003, dtype=float32),\n",
       "  array(0.0099581, dtype=float32),\n",
       "  array(0.0113261, dtype=float32),\n",
       "  array(0.00987409, dtype=float32),\n",
       "  array(0.00950731, dtype=float32),\n",
       "  array(0.0092729, dtype=float32),\n",
       "  array(0.00902979, dtype=float32),\n",
       "  array(0.01028707, dtype=float32),\n",
       "  array(0.00899031, dtype=float32),\n",
       "  array(0.00882158, dtype=float32),\n",
       "  array(0.00874323, dtype=float32),\n",
       "  array(0.00861965, dtype=float32)],\n",
       " 'test_loss': [array(0.0954703, dtype=float32),\n",
       "  array(0.09791686, dtype=float32),\n",
       "  array(0.09815863, dtype=float32),\n",
       "  array(0.08808186, dtype=float32),\n",
       "  array(0.0889764, dtype=float32),\n",
       "  array(0.08468536, dtype=float32),\n",
       "  array(0.08319359, dtype=float32),\n",
       "  array(0.08304707, dtype=float32),\n",
       "  array(0.08584795, dtype=float32),\n",
       "  array(0.09077562, dtype=float32),\n",
       "  array(0.09286449, dtype=float32),\n",
       "  array(0.09078221, dtype=float32),\n",
       "  array(0.09144023, dtype=float32),\n",
       "  array(0.08498275, dtype=float32),\n",
       "  array(0.08313291, dtype=float32),\n",
       "  array(0.09637377, dtype=float32),\n",
       "  array(0.09414831, dtype=float32),\n",
       "  array(0.09090022, dtype=float32),\n",
       "  array(0.08931831, dtype=float32),\n",
       "  array(0.09006213, dtype=float32),\n",
       "  array(0.089245, dtype=float32),\n",
       "  array(0.08873963, dtype=float32),\n",
       "  array(0.08780102, dtype=float32),\n",
       "  array(0.08959313, dtype=float32),\n",
       "  array(0.09040581, dtype=float32),\n",
       "  array(0.08981235, dtype=float32),\n",
       "  array(0.08993492, dtype=float32),\n",
       "  array(0.08985312, dtype=float32),\n",
       "  array(0.08941898, dtype=float32),\n",
       "  array(0.08906853, dtype=float32),\n",
       "  array(0.09378475, dtype=float32),\n",
       "  array(0.09062452, dtype=float32),\n",
       "  array(0.09001106, dtype=float32),\n",
       "  array(0.08782734, dtype=float32),\n",
       "  array(0.08504541, dtype=float32),\n",
       "  array(0.08671501, dtype=float32),\n",
       "  array(0.08545579, dtype=float32),\n",
       "  array(0.08506054, dtype=float32),\n",
       "  array(0.08377285, dtype=float32),\n",
       "  array(0.08375809, dtype=float32),\n",
       "  array(0.08433935, dtype=float32),\n",
       "  array(0.08262583, dtype=float32),\n",
       "  array(0.08451403, dtype=float32),\n",
       "  array(0.08443959, dtype=float32),\n",
       "  array(0.08386923, dtype=float32),\n",
       "  array(0.08394756, dtype=float32),\n",
       "  array(0.08433594, dtype=float32),\n",
       "  array(0.08541949, dtype=float32),\n",
       "  array(0.08459146, dtype=float32),\n",
       "  array(0.0839607, dtype=float32)],\n",
       " 'reg': [array(0., dtype=float32),\n",
       "  array(0., dtype=float32),\n",
       "  array(0., dtype=float32),\n",
       "  array(0., dtype=float32),\n",
       "  array(0., dtype=float32),\n",
       "  array(0., dtype=float32),\n",
       "  array(0., dtype=float32),\n",
       "  array(0., dtype=float32),\n",
       "  array(0., dtype=float32),\n",
       "  array(0., dtype=float32),\n",
       "  array(0., dtype=float32),\n",
       "  array(0., dtype=float32),\n",
       "  array(0., dtype=float32),\n",
       "  array(0., dtype=float32),\n",
       "  array(0., dtype=float32),\n",
       "  array(0., dtype=float32),\n",
       "  array(0., dtype=float32),\n",
       "  array(0., dtype=float32),\n",
       "  array(0., dtype=float32),\n",
       "  array(0., dtype=float32),\n",
       "  array(0., dtype=float32),\n",
       "  array(0., dtype=float32),\n",
       "  array(0., dtype=float32),\n",
       "  array(0., dtype=float32),\n",
       "  array(0., dtype=float32),\n",
       "  array(0., dtype=float32),\n",
       "  array(0., dtype=float32),\n",
       "  array(0., dtype=float32),\n",
       "  array(0., dtype=float32),\n",
       "  array(0., dtype=float32),\n",
       "  array(0., dtype=float32),\n",
       "  array(0., dtype=float32),\n",
       "  array(0., dtype=float32),\n",
       "  array(0., dtype=float32),\n",
       "  array(0., dtype=float32),\n",
       "  array(0., dtype=float32),\n",
       "  array(0., dtype=float32),\n",
       "  array(0., dtype=float32),\n",
       "  array(0., dtype=float32),\n",
       "  array(0., dtype=float32),\n",
       "  array(0., dtype=float32),\n",
       "  array(0., dtype=float32),\n",
       "  array(0., dtype=float32),\n",
       "  array(0., dtype=float32),\n",
       "  array(0., dtype=float32),\n",
       "  array(0., dtype=float32),\n",
       "  array(0., dtype=float32),\n",
       "  array(0., dtype=float32),\n",
       "  array(0., dtype=float32),\n",
       "  array(11.127045, dtype=float32)]}"
      ]
     },
     "execution_count": 32,
     "metadata": {},
     "output_type": "execute_result"
    }
   ],
   "source": [
    "model.fit(dataset, opt=\"LBFGS\", steps=50)"
   ]
  },
  {
   "cell_type": "code",
   "execution_count": 41,
   "metadata": {},
   "outputs": [],
   "source": [
    "val_X = val_df.drop(\"PT_LOSS\", axis=1).values\n",
    "val_y = val_df[\"PT_LOSS\"].values"
   ]
  },
  {
   "cell_type": "code",
   "execution_count": 43,
   "metadata": {},
   "outputs": [],
   "source": [
    "vtX = torch.from_numpy(val_X).float()"
   ]
  },
  {
   "cell_type": "code",
   "execution_count": 45,
   "metadata": {},
   "outputs": [],
   "source": [
    "val_preds = model(vtX).detach().numpy()\n",
    "train_preds = model(tX).detach().numpy()"
   ]
  },
  {
   "cell_type": "code",
   "execution_count": 47,
   "metadata": {},
   "outputs": [],
   "source": [
    "from sklearn.metrics import r2_score, mean_absolute_error\n"
   ]
  },
  {
   "cell_type": "code",
   "execution_count": 115,
   "metadata": {},
   "outputs": [
    {
     "name": "stdout",
     "output_type": "stream",
     "text": [
      "Train R^2: 0.9623275711854148\n",
      "Val MAE: 0.013960231411897997\n"
     ]
    }
   ],
   "source": [
    "print(f\"Train R^2: {r2_score(y, train_preds)}\")\n",
    "print(f\"Val MAE: {mean_absolute_error(y, train_preds)}\")"
   ]
  },
  {
   "cell_type": "code",
   "execution_count": 116,
   "metadata": {},
   "outputs": [
    {
     "name": "stdout",
     "output_type": "stream",
     "text": [
      "Val R^2: 0.9618137162112146\n",
      "Val MAE: 0.018178516450163267\n"
     ]
    }
   ],
   "source": [
    "print(f\"Val R^2: {r2_score(val_y, val_preds)}\")\n",
    "print(f\"Val MAE: {mean_absolute_error(val_y, val_preds)}\")"
   ]
  },
  {
   "cell_type": "code",
   "execution_count": 96,
   "metadata": {},
   "outputs": [
    {
     "data": {
      "image/png": "[encoded data removed]",
      "text/plain": [
       "<Figure size 500x400 with 20 Axes>"
      ]
     },
     "metadata": {},
     "output_type": "display_data"
    }
   ],
   "source": [
    "model.plot()"
   ]
  },
  {
   "cell_type": "code",
   "execution_count": 103,
   "metadata": {},
   "outputs": [
    {
     "name": "stdout",
     "output_type": "stream",
     "text": [
      "skipping (0,0,0) since already symbolic\n",
      "skipping (0,0,1) since already symbolic\n",
      "skipping (0,1,0) since already symbolic\n",
      "skipping (0,1,1) since already symbolic\n",
      "skipping (0,2,0) since already symbolic\n",
      "skipping (0,2,1) since already symbolic\n",
      "skipping (0,3,0) since already symbolic\n",
      "skipping (0,3,1) since already symbolic\n",
      "skipping (0,4,0) since already symbolic\n",
      "skipping (0,4,1) since already symbolic\n",
      "skipping (0,5,0) since already symbolic\n",
      "skipping (0,5,1) since already symbolic\n",
      "skipping (0,6,0) since already symbolic\n",
      "skipping (0,6,1) since already symbolic\n",
      "skipping (1,0,0) since already symbolic\n",
      "skipping (1,1,0) since already symbolic\n",
      "saving model version 0.7\n"
     ]
    },
    {
     "data": {
      "text/plain": [
       "([0.172641128301620], [x_1, x_2, x_3, x_4, x_5, x_6, x_7])"
      ]
     },
     "execution_count": 103,
     "metadata": {},
     "output_type": "execute_result"
    }
   ],
   "source": [
    "model.auto_symbolic()\n",
    "model.symbolic_formula()"
   ]
  },
  {
   "cell_type": "code",
   "execution_count": 17,
   "metadata": {},
   "outputs": [
    {
     "name": "stdout",
     "output_type": "stream",
     "text": [
      "checkpoint directory created: ./model\n",
      "saving model version 0.0\n"
     ]
    }
   ],
   "source": [
    "model = KAN(width=[7, 7, 7, 1], grid=7, k=3, seed=42)"
   ]
  },
  {
   "cell_type": "code",
   "execution_count": 52,
   "metadata": {},
   "outputs": [
    {
     "name": "stdout",
     "output_type": "stream",
     "text": [
      "checkpoint directory created: ./model\n",
      "saving model version 0.0\n"
     ]
    },
    {
     "name": "stderr",
     "output_type": "stream",
     "text": [
      "| train_loss: 2.40e-02 | test_loss: 3.82e-02 | reg: 6.30e+00 | : 100%|█| 50/50 [00:15<00:00,  3.33it\n"
     ]
    },
    {
     "name": "stdout",
     "output_type": "stream",
     "text": [
      "saving model version 0.1\n"
     ]
    },
    {
     "name": "stderr",
     "output_type": "stream",
     "text": [
      "| train_loss: 2.42e-02 | test_loss: 4.07e-02 | reg: 6.20e+00 | : 100%|█| 50/50 [00:08<00:00,  5.84it\n"
     ]
    },
    {
     "name": "stdout",
     "output_type": "stream",
     "text": [
      "saving model version 0.2\n"
     ]
    },
    {
     "name": "stderr",
     "output_type": "stream",
     "text": [
      "| train_loss: 2.42e-02 | test_loss: 4.07e-02 | reg: 6.20e+00 | : 100%|█| 50/50 [00:11<00:00,  4.50it\n"
     ]
    },
    {
     "name": "stdout",
     "output_type": "stream",
     "text": [
      "saving model version 0.3\n"
     ]
    },
    {
     "name": "stderr",
     "output_type": "stream",
     "text": [
      "| train_loss: 2.42e-02 | test_loss: 4.07e-02 | reg: 6.20e+00 | : 100%|█| 80/80 [00:10<00:00,  7.58it\n"
     ]
    },
    {
     "name": "stdout",
     "output_type": "stream",
     "text": [
      "saving model version 0.4\n"
     ]
    },
    {
     "name": "stderr",
     "output_type": "stream",
     "text": [
      "| train_loss: 2.43e-02 | test_loss: 4.16e-02 | reg: 6.18e+00 | : 100%|█| 80/80 [00:08<00:00,  9.69it\n"
     ]
    },
    {
     "name": "stdout",
     "output_type": "stream",
     "text": [
      "saving model version 0.5\n"
     ]
    },
    {
     "name": "stderr",
     "output_type": "stream",
     "text": [
      "| train_loss: 2.44e-02 | test_loss: 4.20e-02 | reg: 6.17e+00 | : 100%|█| 80/80 [00:10<00:00,  7.92it\n"
     ]
    },
    {
     "name": "stdout",
     "output_type": "stream",
     "text": [
      "saving model version 0.6\n"
     ]
    },
    {
     "name": "stderr",
     "output_type": "stream",
     "text": [
      "| train_loss: 2.43e-02 | test_loss: 4.26e-02 | reg: 6.16e+00 | : 100%|█| 100/100 [00:13<00:00,  7.40\n"
     ]
    },
    {
     "name": "stdout",
     "output_type": "stream",
     "text": [
      "saving model version 0.7\n"
     ]
    },
    {
     "name": "stderr",
     "output_type": "stream",
     "text": [
      "| train_loss: 2.43e-02 | test_loss: 4.26e-02 | reg: 6.16e+00 | : 100%|█| 100/100 [00:09<00:00, 10.54\n"
     ]
    },
    {
     "name": "stdout",
     "output_type": "stream",
     "text": [
      "saving model version 0.8\n"
     ]
    },
    {
     "name": "stderr",
     "output_type": "stream",
     "text": [
      "| train_loss: 2.43e-02 | test_loss: 4.26e-02 | reg: 6.16e+00 | : 100%|█| 100/100 [00:10<00:00,  9.69\n"
     ]
    },
    {
     "name": "stdout",
     "output_type": "stream",
     "text": [
      "saving model version 0.9\n",
      "checkpoint directory created: ./model\n",
      "saving model version 0.0\n"
     ]
    },
    {
     "name": "stderr",
     "output_type": "stream",
     "text": [
      "| train_loss: 2.95e-02 | test_loss: 5.81e-02 | reg: 9.06e+00 | : 100%|█| 50/50 [00:12<00:00,  3.89it\n"
     ]
    },
    {
     "name": "stdout",
     "output_type": "stream",
     "text": [
      "saving model version 0.1\n"
     ]
    },
    {
     "name": "stderr",
     "output_type": "stream",
     "text": [
      "| train_loss: 3.13e-02 | test_loss: 6.04e-02 | reg: 8.87e+00 | : 100%|█| 50/50 [00:13<00:00,  3.67it\n"
     ]
    },
    {
     "name": "stdout",
     "output_type": "stream",
     "text": [
      "saving model version 0.2\n"
     ]
    },
    {
     "name": "stderr",
     "output_type": "stream",
     "text": [
      "| train_loss: 4.35e-02 | test_loss: 6.78e-02 | reg: 8.65e+00 | : 100%|█| 50/50 [00:07<00:00,  6.37it\n"
     ]
    },
    {
     "name": "stdout",
     "output_type": "stream",
     "text": [
      "saving model version 0.3\n"
     ]
    },
    {
     "name": "stderr",
     "output_type": "stream",
     "text": [
      "| train_loss: 4.20e-02 | test_loss: 6.68e-02 | reg: 8.65e+00 | : 100%|█| 80/80 [00:20<00:00,  3.87it\n"
     ]
    },
    {
     "name": "stdout",
     "output_type": "stream",
     "text": [
      "saving model version 0.4\n"
     ]
    },
    {
     "name": "stderr",
     "output_type": "stream",
     "text": [
      "| train_loss: 4.17e-02 | test_loss: 6.77e-02 | reg: 8.64e+00 | : 100%|█| 80/80 [00:10<00:00,  7.28it\n"
     ]
    },
    {
     "name": "stdout",
     "output_type": "stream",
     "text": [
      "saving model version 0.5\n"
     ]
    },
    {
     "name": "stderr",
     "output_type": "stream",
     "text": [
      "| train_loss: 6.06e-02 | test_loss: 7.85e-02 | reg: 8.22e+00 | : 100%|█| 80/80 [00:15<00:00,  5.18it\n"
     ]
    },
    {
     "name": "stdout",
     "output_type": "stream",
     "text": [
      "saving model version 0.6\n"
     ]
    },
    {
     "name": "stderr",
     "output_type": "stream",
     "text": [
      "| train_loss: 6.06e-02 | test_loss: 7.85e-02 | reg: 8.22e+00 | : 100%|█| 100/100 [00:07<00:00, 13.14\n"
     ]
    },
    {
     "name": "stdout",
     "output_type": "stream",
     "text": [
      "saving model version 0.7\n"
     ]
    },
    {
     "name": "stderr",
     "output_type": "stream",
     "text": [
      "| train_loss: 6.06e-02 | test_loss: 7.85e-02 | reg: 8.22e+00 | : 100%|█| 100/100 [00:10<00:00,  9.96\n"
     ]
    },
    {
     "name": "stdout",
     "output_type": "stream",
     "text": [
      "saving model version 0.8\n"
     ]
    },
    {
     "name": "stderr",
     "output_type": "stream",
     "text": [
      "| train_loss: 6.38e-02 | test_loss: 8.05e-02 | reg: 8.20e+00 | : 100%|█| 100/100 [00:17<00:00,  5.67\n"
     ]
    },
    {
     "name": "stdout",
     "output_type": "stream",
     "text": [
      "saving model version 0.9\n",
      "checkpoint directory created: ./model\n",
      "saving model version 0.0\n"
     ]
    },
    {
     "name": "stderr",
     "output_type": "stream",
     "text": [
      "| train_loss: 3.60e-02 | test_loss: 2.78e-02 | reg: 8.71e+00 | : 100%|█| 50/50 [00:16<00:00,  2.97it\n"
     ]
    },
    {
     "name": "stdout",
     "output_type": "stream",
     "text": [
      "saving model version 0.1\n"
     ]
    },
    {
     "name": "stderr",
     "output_type": "stream",
     "text": [
      "| train_loss: 3.53e-02 | test_loss: 2.80e-02 | reg: 8.67e+00 | : 100%|█| 50/50 [00:08<00:00,  6.16it\n"
     ]
    },
    {
     "name": "stdout",
     "output_type": "stream",
     "text": [
      "saving model version 0.2\n"
     ]
    },
    {
     "name": "stderr",
     "output_type": "stream",
     "text": [
      "| train_loss: 3.53e-02 | test_loss: 2.76e-02 | reg: 8.63e+00 | : 100%|█| 50/50 [00:07<00:00,  7.13it\n"
     ]
    },
    {
     "name": "stdout",
     "output_type": "stream",
     "text": [
      "saving model version 0.3\n"
     ]
    },
    {
     "name": "stderr",
     "output_type": "stream",
     "text": [
      "| train_loss: 3.49e-02 | test_loss: 2.77e-02 | reg: 8.42e+00 | : 100%|█| 80/80 [00:10<00:00,  7.60it\n"
     ]
    },
    {
     "name": "stdout",
     "output_type": "stream",
     "text": [
      "saving model version 0.4\n"
     ]
    },
    {
     "name": "stderr",
     "output_type": "stream",
     "text": [
      "| train_loss: 3.49e-02 | test_loss: 2.77e-02 | reg: 8.42e+00 | : 100%|█| 80/80 [00:12<00:00,  6.50it\n"
     ]
    },
    {
     "name": "stdout",
     "output_type": "stream",
     "text": [
      "saving model version 0.5\n"
     ]
    },
    {
     "name": "stderr",
     "output_type": "stream",
     "text": [
      "| train_loss: 3.49e-02 | test_loss: 2.77e-02 | reg: 8.41e+00 | : 100%|█| 80/80 [00:10<00:00,  7.44it\n"
     ]
    },
    {
     "name": "stdout",
     "output_type": "stream",
     "text": [
      "saving model version 0.6\n"
     ]
    },
    {
     "name": "stderr",
     "output_type": "stream",
     "text": [
      "| train_loss: 3.49e-02 | test_loss: 2.77e-02 | reg: 8.41e+00 | : 100%|█| 100/100 [00:15<00:00,  6.39\n"
     ]
    },
    {
     "name": "stdout",
     "output_type": "stream",
     "text": [
      "saving model version 0.7\n"
     ]
    },
    {
     "name": "stderr",
     "output_type": "stream",
     "text": [
      "| train_loss: 3.49e-02 | test_loss: 2.82e-02 | reg: 8.40e+00 | : 100%|█| 100/100 [00:17<00:00,  5.77\n"
     ]
    },
    {
     "name": "stdout",
     "output_type": "stream",
     "text": [
      "saving model version 0.8\n"
     ]
    },
    {
     "name": "stderr",
     "output_type": "stream",
     "text": [
      "| train_loss: 3.49e-02 | test_loss: 2.82e-02 | reg: 8.40e+00 | : 100%|█| 100/100 [00:14<00:00,  6.72\n"
     ]
    },
    {
     "name": "stdout",
     "output_type": "stream",
     "text": [
      "saving model version 0.9\n",
      "checkpoint directory created: ./model\n",
      "saving model version 0.0\n"
     ]
    },
    {
     "name": "stderr",
     "output_type": "stream",
     "text": [
      "| train_loss: 2.54e-02 | test_loss: 3.13e-02 | reg: 4.93e+00 | : 100%|█| 50/50 [00:26<00:00,  1.87it\n"
     ]
    },
    {
     "name": "stdout",
     "output_type": "stream",
     "text": [
      "saving model version 0.1\n"
     ]
    },
    {
     "name": "stderr",
     "output_type": "stream",
     "text": [
      "| train_loss: 3.52e-02 | test_loss: 3.47e-02 | reg: 4.82e+00 | : 100%|█| 50/50 [00:25<00:00,  1.98it\n"
     ]
    },
    {
     "name": "stdout",
     "output_type": "stream",
     "text": [
      "saving model version 0.2\n"
     ]
    },
    {
     "name": "stderr",
     "output_type": "stream",
     "text": [
      "| train_loss: 5.80e-02 | test_loss: 5.38e-02 | reg: 4.64e+00 | : 100%|█| 50/50 [00:28<00:00,  1.74it\n"
     ]
    },
    {
     "name": "stdout",
     "output_type": "stream",
     "text": [
      "saving model version 0.3\n"
     ]
    },
    {
     "name": "stderr",
     "output_type": "stream",
     "text": [
      "| train_loss: 3.41e-02 | test_loss: 3.81e-02 | reg: 4.76e+00 | : 100%|█| 80/80 [00:43<00:00,  1.85it\n"
     ]
    },
    {
     "name": "stdout",
     "output_type": "stream",
     "text": [
      "saving model version 0.4\n"
     ]
    },
    {
     "name": "stderr",
     "output_type": "stream",
     "text": [
      "| train_loss: 3.54e-02 | test_loss: 3.38e-02 | reg: 4.74e+00 | : 100%|█| 80/80 [00:38<00:00,  2.07it\n"
     ]
    },
    {
     "name": "stdout",
     "output_type": "stream",
     "text": [
      "saving model version 0.5\n"
     ]
    },
    {
     "name": "stderr",
     "output_type": "stream",
     "text": [
      "| train_loss: 5.19e-02 | test_loss: 4.74e-02 | reg: 5.90e+00 | : 100%|█| 80/80 [00:33<00:00,  2.35it\n"
     ]
    },
    {
     "name": "stdout",
     "output_type": "stream",
     "text": [
      "saving model version 0.6\n"
     ]
    },
    {
     "name": "stderr",
     "output_type": "stream",
     "text": [
      "| train_loss: 3.26e-02 | test_loss: 6.94e-02 | reg: 5.35e+00 | : 100%|█| 100/100 [00:42<00:00,  2.34\n"
     ]
    },
    {
     "name": "stdout",
     "output_type": "stream",
     "text": [
      "saving model version 0.7\n"
     ]
    },
    {
     "name": "stderr",
     "output_type": "stream",
     "text": [
      "| train_loss: 3.06e-02 | test_loss: 1.48e-01 | reg: 8.62e+00 | : 100%|█| 100/100 [00:44<00:00,  2.25\n"
     ]
    },
    {
     "name": "stdout",
     "output_type": "stream",
     "text": [
      "saving model version 0.8\n"
     ]
    },
    {
     "name": "stderr",
     "output_type": "stream",
     "text": [
      "| train_loss: 8.29e-02 | test_loss: 2.79e-01 | reg: 7.72e+00 | : 100%|█| 100/100 [00:33<00:00,  2.98\n"
     ]
    },
    {
     "name": "stdout",
     "output_type": "stream",
     "text": [
      "saving model version 0.9\n",
      "checkpoint directory created: ./model\n",
      "saving model version 0.0\n"
     ]
    },
    {
     "name": "stderr",
     "output_type": "stream",
     "text": [
      "| train_loss: 2.63e-02 | test_loss: 3.20e-02 | reg: 5.39e+00 | : 100%|█| 50/50 [00:21<00:00,  2.33it\n"
     ]
    },
    {
     "name": "stdout",
     "output_type": "stream",
     "text": [
      "saving model version 0.1\n"
     ]
    },
    {
     "name": "stderr",
     "output_type": "stream",
     "text": [
      "| train_loss: 2.97e-02 | test_loss: 4.21e-02 | reg: 5.54e+00 | : 100%|█| 50/50 [00:22<00:00,  2.18it\n"
     ]
    },
    {
     "name": "stdout",
     "output_type": "stream",
     "text": [
      "saving model version 0.2\n"
     ]
    },
    {
     "name": "stderr",
     "output_type": "stream",
     "text": [
      "| train_loss: 6.89e-02 | test_loss: 7.34e-02 | reg: 5.09e+00 | : 100%|█| 50/50 [00:21<00:00,  2.31it\n"
     ]
    },
    {
     "name": "stdout",
     "output_type": "stream",
     "text": [
      "saving model version 0.3\n"
     ]
    },
    {
     "name": "stderr",
     "output_type": "stream",
     "text": [
      "| train_loss: 2.83e-02 | test_loss: 4.17e-02 | reg: 6.45e+00 | : 100%|█| 80/80 [00:25<00:00,  3.10it\n"
     ]
    },
    {
     "name": "stdout",
     "output_type": "stream",
     "text": [
      "saving model version 0.4\n"
     ]
    },
    {
     "name": "stderr",
     "output_type": "stream",
     "text": [
      "| train_loss: 5.06e-02 | test_loss: 1.79e-01 | reg: 5.48e+00 | : 100%|█| 80/80 [00:36<00:00,  2.18it\n"
     ]
    },
    {
     "name": "stdout",
     "output_type": "stream",
     "text": [
      "saving model version 0.5\n"
     ]
    },
    {
     "name": "stderr",
     "output_type": "stream",
     "text": [
      "| train_loss: 6.59e-02 | test_loss: 6.68e-02 | reg: 5.29e+00 | : 100%|█| 80/80 [00:35<00:00,  2.28it\n"
     ]
    },
    {
     "name": "stdout",
     "output_type": "stream",
     "text": [
      "saving model version 0.6\n"
     ]
    },
    {
     "name": "stderr",
     "output_type": "stream",
     "text": [
      "| train_loss: 2.22e-02 | test_loss: 3.73e-02 | reg: 5.81e+00 | : 100%|█| 100/100 [00:43<00:00,  2.31\n"
     ]
    },
    {
     "name": "stdout",
     "output_type": "stream",
     "text": [
      "saving model version 0.7\n"
     ]
    },
    {
     "name": "stderr",
     "output_type": "stream",
     "text": [
      "| train_loss: 3.41e-02 | test_loss: 4.29e-02 | reg: 5.99e+00 | : 100%|█| 100/100 [00:41<00:00,  2.44\n"
     ]
    },
    {
     "name": "stdout",
     "output_type": "stream",
     "text": [
      "saving model version 0.8\n"
     ]
    },
    {
     "name": "stderr",
     "output_type": "stream",
     "text": [
      "| train_loss: 7.07e-02 | test_loss: 7.68e-02 | reg: 5.10e+00 | : 100%|█| 100/100 [00:43<00:00,  2.29\n"
     ]
    },
    {
     "name": "stdout",
     "output_type": "stream",
     "text": [
      "saving model version 0.9\n",
      "checkpoint directory created: ./model\n",
      "saving model version 0.0\n"
     ]
    },
    {
     "name": "stderr",
     "output_type": "stream",
     "text": [
      "| train_loss: 2.94e-02 | test_loss: 3.55e-02 | reg: 6.08e+00 | : 100%|█| 50/50 [00:23<00:00,  2.09it\n"
     ]
    },
    {
     "name": "stdout",
     "output_type": "stream",
     "text": [
      "saving model version 0.1\n"
     ]
    },
    {
     "name": "stderr",
     "output_type": "stream",
     "text": [
      "| train_loss: 6.41e-02 | test_loss: 7.92e-02 | reg: 8.05e+00 | : 100%|█| 50/50 [00:28<00:00,  1.76it\n"
     ]
    },
    {
     "name": "stdout",
     "output_type": "stream",
     "text": [
      "saving model version 0.2\n"
     ]
    },
    {
     "name": "stderr",
     "output_type": "stream",
     "text": [
      "| train_loss: 7.37e-02 | test_loss: 8.15e-02 | reg: 7.12e+00 | : 100%|█| 50/50 [00:40<00:00,  1.22it\n"
     ]
    },
    {
     "name": "stdout",
     "output_type": "stream",
     "text": [
      "saving model version 0.3\n"
     ]
    },
    {
     "name": "stderr",
     "output_type": "stream",
     "text": [
      "| train_loss: 3.43e-02 | test_loss: 5.43e-02 | reg: 7.14e+00 | : 100%|█| 80/80 [00:50<00:00,  1.57it\n"
     ]
    },
    {
     "name": "stdout",
     "output_type": "stream",
     "text": [
      "saving model version 0.4\n"
     ]
    },
    {
     "name": "stderr",
     "output_type": "stream",
     "text": [
      "| train_loss: 4.08e-02 | test_loss: 4.78e-02 | reg: 6.77e+00 | : 100%|█| 80/80 [00:52<00:00,  1.52it\n"
     ]
    },
    {
     "name": "stdout",
     "output_type": "stream",
     "text": [
      "saving model version 0.5\n"
     ]
    },
    {
     "name": "stderr",
     "output_type": "stream",
     "text": [
      "| train_loss: 7.44e-02 | test_loss: 8.72e-02 | reg: 5.87e+00 | : 100%|█| 80/80 [00:48<00:00,  1.66it\n"
     ]
    },
    {
     "name": "stdout",
     "output_type": "stream",
     "text": [
      "saving model version 0.6\n"
     ]
    },
    {
     "name": "stderr",
     "output_type": "stream",
     "text": [
      "| train_loss: 5.90e-02 | test_loss: 3.60e+00 | reg: 7.75e+00 | : 100%|█| 100/100 [00:39<00:00,  2.53\n"
     ]
    },
    {
     "name": "stdout",
     "output_type": "stream",
     "text": [
      "saving model version 0.7\n"
     ]
    },
    {
     "name": "stderr",
     "output_type": "stream",
     "text": [
      "| train_loss: 2.54e-01 | test_loss: 4.13e+00 | reg: 6.73e+01 | : 100%|█| 100/100 [00:36<00:00,  2.71\n"
     ]
    },
    {
     "name": "stdout",
     "output_type": "stream",
     "text": [
      "saving model version 0.8\n"
     ]
    },
    {
     "name": "stderr",
     "output_type": "stream",
     "text": [
      "| train_loss: 1.43e-01 | test_loss: 1.41e-01 | reg: 9.44e+00 | : 100%|█| 100/100 [01:06<00:00,  1.51\n"
     ]
    },
    {
     "name": "stdout",
     "output_type": "stream",
     "text": [
      "saving model version 0.9\n",
      "checkpoint directory created: ./model\n",
      "saving model version 0.0\n"
     ]
    },
    {
     "name": "stderr",
     "output_type": "stream",
     "text": [
      "| train_loss: 1.86e-02 | test_loss: 3.06e-02 | reg: 4.13e+00 | : 100%|█| 50/50 [00:30<00:00,  1.62it\n"
     ]
    },
    {
     "name": "stdout",
     "output_type": "stream",
     "text": [
      "saving model version 0.1\n"
     ]
    },
    {
     "name": "stderr",
     "output_type": "stream",
     "text": [
      "| train_loss: 3.14e-02 | test_loss: 3.34e-02 | reg: 3.46e+00 | : 100%|█| 50/50 [00:29<00:00,  1.72it\n"
     ]
    },
    {
     "name": "stdout",
     "output_type": "stream",
     "text": [
      "saving model version 0.2\n"
     ]
    },
    {
     "name": "stderr",
     "output_type": "stream",
     "text": [
      "| train_loss: 1.42e-01 | test_loss: 1.40e-01 | reg: 2.27e+00 | : 100%|█| 50/50 [00:28<00:00,  1.75it\n"
     ]
    },
    {
     "name": "stdout",
     "output_type": "stream",
     "text": [
      "saving model version 0.3\n"
     ]
    },
    {
     "name": "stderr",
     "output_type": "stream",
     "text": [
      "| train_loss: 1.93e-02 | test_loss: 2.49e-02 | reg: 3.91e+00 | : 100%|█| 80/80 [00:43<00:00,  1.82it\n"
     ]
    },
    {
     "name": "stdout",
     "output_type": "stream",
     "text": [
      "saving model version 0.4\n"
     ]
    },
    {
     "name": "stderr",
     "output_type": "stream",
     "text": [
      "| train_loss: 2.60e-02 | test_loss: 2.51e-02 | reg: 3.23e+00 | : 100%|█| 80/80 [00:42<00:00,  1.87it\n"
     ]
    },
    {
     "name": "stdout",
     "output_type": "stream",
     "text": [
      "saving model version 0.5\n"
     ]
    },
    {
     "name": "stderr",
     "output_type": "stream",
     "text": [
      "| train_loss: 1.50e-01 | test_loss: 1.67e-01 | reg: 2.77e+00 | : 100%|█| 80/80 [00:43<00:00,  1.82it\n"
     ]
    },
    {
     "name": "stdout",
     "output_type": "stream",
     "text": [
      "saving model version 0.6\n"
     ]
    },
    {
     "name": "stderr",
     "output_type": "stream",
     "text": [
      "| train_loss: 4.52e-02 | test_loss: 7.36e-02 | reg: 5.41e+00 | : 100%|█| 100/100 [00:58<00:00,  1.71\n"
     ]
    },
    {
     "name": "stdout",
     "output_type": "stream",
     "text": [
      "saving model version 0.7\n"
     ]
    },
    {
     "name": "stderr",
     "output_type": "stream",
     "text": [
      "| train_loss: 4.43e-02 | test_loss: 7.53e-02 | reg: 4.81e+00 | : 100%|█| 100/100 [00:57<00:00,  1.73\n"
     ]
    },
    {
     "name": "stdout",
     "output_type": "stream",
     "text": [
      "saving model version 0.8\n"
     ]
    },
    {
     "name": "stderr",
     "output_type": "stream",
     "text": [
      "| train_loss: 1.06e-01 | test_loss: 1.13e-01 | reg: 3.86e+00 | : 100%|█| 100/100 [00:58<00:00,  1.71\n"
     ]
    },
    {
     "name": "stdout",
     "output_type": "stream",
     "text": [
      "saving model version 0.9\n",
      "checkpoint directory created: ./model\n",
      "saving model version 0.0\n"
     ]
    },
    {
     "name": "stderr",
     "output_type": "stream",
     "text": [
      "| train_loss: 2.46e-02 | test_loss: 2.49e-02 | reg: 4.10e+00 | : 100%|█| 50/50 [00:28<00:00,  1.77it\n"
     ]
    },
    {
     "name": "stdout",
     "output_type": "stream",
     "text": [
      "saving model version 0.1\n"
     ]
    },
    {
     "name": "stderr",
     "output_type": "stream",
     "text": [
      "| train_loss: 4.15e-02 | test_loss: 3.03e-01 | reg: 5.92e+00 | : 100%|█| 50/50 [00:29<00:00,  1.69it\n"
     ]
    },
    {
     "name": "stdout",
     "output_type": "stream",
     "text": [
      "saving model version 0.2\n"
     ]
    },
    {
     "name": "stderr",
     "output_type": "stream",
     "text": [
      "| train_loss: 1.28e-01 | test_loss: 9.80e+00 | reg: 5.36e+00 | : 100%|█| 50/50 [00:28<00:00,  1.74it\n"
     ]
    },
    {
     "name": "stdout",
     "output_type": "stream",
     "text": [
      "saving model version 0.3\n"
     ]
    },
    {
     "name": "stderr",
     "output_type": "stream",
     "text": [
      "| train_loss: 6.64e-02 | test_loss: 8.12e-02 | reg: 7.90e+00 | : 100%|█| 80/80 [00:39<00:00,  2.03it\n"
     ]
    },
    {
     "name": "stdout",
     "output_type": "stream",
     "text": [
      "saving model version 0.4\n"
     ]
    },
    {
     "name": "stderr",
     "output_type": "stream",
     "text": [
      "| train_loss: 2.46e-01 | test_loss: 2.45e-01 | reg: 2.91e+02 | : 100%|█| 80/80 [00:36<00:00,  2.22it\n"
     ]
    },
    {
     "name": "stdout",
     "output_type": "stream",
     "text": [
      "saving model version 0.5\n"
     ]
    },
    {
     "name": "stderr",
     "output_type": "stream",
     "text": [
      "| train_loss: 2.42e-01 | test_loss: 2.39e-01 | reg: 2.91e+02 | : 100%|█| 80/80 [00:07<00:00, 11.08it\n"
     ]
    },
    {
     "name": "stdout",
     "output_type": "stream",
     "text": [
      "saving model version 0.6\n"
     ]
    },
    {
     "name": "stderr",
     "output_type": "stream",
     "text": [
      "| train_loss: 1.70e-01 | test_loss: 1.62e-01 | reg: 2.90e+02 | : 100%|█| 100/100 [00:21<00:00,  4.59\n"
     ]
    },
    {
     "name": "stdout",
     "output_type": "stream",
     "text": [
      "saving model version 0.7\n"
     ]
    },
    {
     "name": "stderr",
     "output_type": "stream",
     "text": [
      "| train_loss: 1.70e-01 | test_loss: 1.62e-01 | reg: 2.90e+02 | : 100%|█| 100/100 [00:13<00:00,  7.51\n"
     ]
    },
    {
     "name": "stdout",
     "output_type": "stream",
     "text": [
      "saving model version 0.8\n"
     ]
    },
    {
     "name": "stderr",
     "output_type": "stream",
     "text": [
      "| train_loss: 4.23e-01 | test_loss: 3.88e-01 | reg: 2.68e+02 | : 100%|█| 100/100 [00:20<00:00,  4.98\n"
     ]
    },
    {
     "name": "stdout",
     "output_type": "stream",
     "text": [
      "saving model version 0.9\n",
      "checkpoint directory created: ./model\n",
      "saving model version 0.0\n"
     ]
    },
    {
     "name": "stderr",
     "output_type": "stream",
     "text": [
      "| train_loss: 4.15e-01 | test_loss: 1.93e+01 | reg: 3.84e+01 | : 100%|█| 50/50 [00:28<00:00,  1.73it\n"
     ]
    },
    {
     "name": "stdout",
     "output_type": "stream",
     "text": [
      "saving model version 0.1\n"
     ]
    },
    {
     "name": "stderr",
     "output_type": "stream",
     "text": [
      "| train_loss: 2.37e-01 | test_loss: 1.47e+01 | reg: 3.61e+01 | : 100%|█| 50/50 [00:28<00:00,  1.73it\n"
     ]
    },
    {
     "name": "stdout",
     "output_type": "stream",
     "text": [
      "saving model version 0.2\n"
     ]
    },
    {
     "name": "stderr",
     "output_type": "stream",
     "text": [
      "| train_loss: 2.38e-01 | test_loss: 3.84e+01 | reg: 3.22e+01 | : 100%|█| 50/50 [00:28<00:00,  1.74it\n"
     ]
    },
    {
     "name": "stdout",
     "output_type": "stream",
     "text": [
      "saving model version 0.3\n"
     ]
    },
    {
     "name": "stderr",
     "output_type": "stream",
     "text": [
      "| train_loss: 1.37e-01 | test_loss: 3.73e+01 | reg: 3.48e+01 | : 100%|█| 80/80 [00:46<00:00,  1.73it\n"
     ]
    },
    {
     "name": "stdout",
     "output_type": "stream",
     "text": [
      "saving model version 0.4\n"
     ]
    },
    {
     "name": "stderr",
     "output_type": "stream",
     "text": [
      "| train_loss: 1.27e-01 | test_loss: 2.07e+01 | reg: 3.36e+01 | : 100%|█| 80/80 [00:46<00:00,  1.72it\n"
     ]
    },
    {
     "name": "stdout",
     "output_type": "stream",
     "text": [
      "saving model version 0.5\n"
     ]
    },
    {
     "name": "stderr",
     "output_type": "stream",
     "text": [
      "| train_loss: 2.45e-01 | test_loss: 3.58e+01 | reg: 2.62e+01 | : 100%|█| 80/80 [00:44<00:00,  1.80it\n"
     ]
    },
    {
     "name": "stdout",
     "output_type": "stream",
     "text": [
      "saving model version 0.6\n"
     ]
    },
    {
     "name": "stderr",
     "output_type": "stream",
     "text": [
      "| train_loss: 1.22e-01 | test_loss: 2.36e+01 | reg: 2.99e+01 | : 100%|█| 100/100 [00:57<00:00,  1.73\n"
     ]
    },
    {
     "name": "stdout",
     "output_type": "stream",
     "text": [
      "saving model version 0.7\n"
     ]
    },
    {
     "name": "stderr",
     "output_type": "stream",
     "text": [
      "| train_loss: 3.56e+01 | test_loss: 5.15e+00 | reg: 6.94e+02 | : 100%|█| 100/100 [00:27<00:00,  3.69\n"
     ]
    },
    {
     "name": "stdout",
     "output_type": "stream",
     "text": [
      "saving model version 0.8\n"
     ]
    },
    {
     "name": "stderr",
     "output_type": "stream",
     "text": [
      "| train_loss: 1.61e-01 | test_loss: 1.65e-01 | reg: 5.00e+01 | : 100%|█| 100/100 [00:24<00:00,  4.04"
     ]
    },
    {
     "name": "stdout",
     "output_type": "stream",
     "text": [
      "saving model version 0.9\n"
     ]
    },
    {
     "name": "stderr",
     "output_type": "stream",
     "text": [
      "\n"
     ]
    }
   ],
   "source": [
    "best_param = {'grid':None,'k':None,'opts':None,'steps':None,'lamb':None}\n",
    "best_model = None\n",
    "best_mae = 10\n",
    "grids = [5,7,9]\n",
    "k_list = [1,3,5]\n",
    "opts = ['LBFGS','Adam']\n",
    "steps1 = [50,80,100]\n",
    "lambs = [0.001,0.003,0.02]\n",
    "for k1 in k_list:\n",
    "    for grid1 in grids:\n",
    "        model = KAN(width=[7, 7, 7, 1], grid=grid1, k=k1, seed=42)\n",
    "        for step1 in steps1:\n",
    "            for lamb1 in lambs:\n",
    "                model.fit(dataset, opt=\"LBFGS\", steps=step1, lamb=lamb1)\n",
    "                val_preds = model(vtX).detach().numpy()\n",
    "                # train_preds = model(tX).detach().numpy()\n",
    "                if best_mae > mean_absolute_error(val_y, val_preds):\n",
    "                    best_param['grid'] = grid1 \n",
    "                    best_param['k'] = k1 \n",
    "                    best_param['steps'] = step1 \n",
    "                    best_param['lamb'] = lamb1\n",
    "                    best_model = model\n",
    "                    best_mae = mean_absolute_error(val_y, val_preds)"
   ]
  },
  {
   "cell_type": "code",
   "execution_count": 54,
   "metadata": {},
   "outputs": [
    {
     "name": "stdout",
     "output_type": "stream",
     "text": [
      "0.018060493237174517\n"
     ]
    }
   ],
   "source": [
    "print(best_mae)"
   ]
  },
  {
   "cell_type": "code",
   "execution_count": null,
   "metadata": {},
   "outputs": [],
   "source": []
  }
 ],
 "metadata": {
  "kernelspec": {
   "display_name": "Python 3 (ipykernel)",
   "language": "python",
   "name": "python3"
  },
  "language_info": {
   "codemirror_mode": {
    "name": "ipython",
    "version": 3
   },
   "file_extension": ".py",
   "mimetype": "text/x-python",
   "name": "python",
   "nbconvert_exporter": "python",
   "pygments_lexer": "ipython3",
   "version": "3.12.7"
  }
 },
 "nbformat": 4,
 "nbformat_minor": 4
}
